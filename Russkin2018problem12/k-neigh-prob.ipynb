{
 "cells": [
  {
   "cell_type": "code",
   "execution_count": 1,
   "metadata": {},
   "outputs": [
    {
     "ename": "SyntaxError",
     "evalue": "invalid syntax (<ipython-input-1-775330513d09>, line 1)",
     "output_type": "error",
     "traceback": [
      "\u001b[1;36m  File \u001b[1;32m\"<ipython-input-1-775330513d09>\"\u001b[1;36m, line \u001b[1;32m1\u001b[0m\n\u001b[1;33m    function demo_KMeans()\u001b[0m\n\u001b[1;37m                       ^\u001b[0m\n\u001b[1;31mSyntaxError\u001b[0m\u001b[1;31m:\u001b[0m invalid syntax\n"
     ]
    }
   ],
   "source": [
    "function demo_KMeans()\n",
    "%% Set parameters \n",
    "%generating 3 sample normal classes\n",
    "N = 100; \n",
    "% 1st class contains N objects\n",
    "alpha = 1.5; % 2nd class contains alpha*N ones\n",
    "sig2 = 1; % assume 2nd class has the same variance as the 1st\n",
    "dist2 = 4; % distance from the 1st class\n",
    " \n",
    "% parameters for the 3rd class\n",
    "beta = 1.3;\n",
    "sig3 = 1.5;\n",
    "dist3 = 3;\n",
    "%\n",
    "% % later we move this piece of code in a separate file\n",
    "% X - coordinates of educational sequence\n",
    "% y - classes of elements in educatioanal sequence\n",
    "[X, y] = loadModelData3(N, alpha, sig2, dist2, beta, sig3, dist3);\n",
    " \n",
    "%% Section title \n",
    "%\n",
    "% idx* - indexes of class * in X\n",
    "idx1 = find(y == 0); % object indices for the 1st class\n",
    "idx2 = find(y == 1);\n",
    "idx3 = find(y == 2);\n",
    " \n",
    "minErrors=0;\n",
    "%% Main calculations\n",
    "funcNorm = 'normEuc';\n",
    "CalcAndPlot('normEuc', X, y, idx1,idx2,idx3)\n",
    " \n",
    "funcNorm = 'normMax';\n",
    "CalcAndPlot('normMax', X, y, idx1,idx2,idx3)\n",
    " \n",
    "funcNorm = 'normAbs';\n",
    "CalcAndPlot('normAbs', X, y, idx1,idx2,idx3)\n",
    " \n",
    "end\n",
    " \n",
    "function CalcAndPlot(funcNorm, X, y, idx1,idx2,idx3)\n",
    "% RR - indexes of ordered educ. seq.\n",
    "RR=GetBigIndices4(X, funcNorm);\n",
    "% Kopt - optimal parameter for method\n",
    "[Kopt,minErrors] = GetK3(RR,y) \n",
    "% draw results:\n",
    " \n",
    "PlotClassification4(X,y,Kopt,idx1,idx2,idx3, funcNorm,minErrors)\n",
    "end"
   ]
  },
  {
   "cell_type": "code",
   "execution_count": null,
   "metadata": {},
   "outputs": [],
   "source": []
  }
 ],
 "metadata": {
  "kernelspec": {
   "display_name": "Python 2",
   "language": "python",
   "name": "python2"
  },
  "language_info": {
   "codemirror_mode": {
    "name": "ipython",
    "version": 2
   },
   "file_extension": ".py",
   "mimetype": "text/x-python",
   "name": "python",
   "nbconvert_exporter": "python",
   "pygments_lexer": "ipython2",
   "version": "2.7.14"
  }
 },
 "nbformat": 4,
 "nbformat_minor": 2
}
