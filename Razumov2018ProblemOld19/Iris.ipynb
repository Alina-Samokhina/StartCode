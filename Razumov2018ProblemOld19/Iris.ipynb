{
 "cells": [
  {
   "cell_type": "markdown",
   "metadata": {},
   "source": [
    "# Кластеризация ирисов Фишера"
   ]
  },
  {
   "cell_type": "code",
   "execution_count": 121,
   "metadata": {},
   "outputs": [],
   "source": [
    "import numpy as np\n",
    "import pandas as pd\n",
    "import scipy as sp\n",
    "from scipy import optimize\n",
    "import random as rd\n",
    "import requests\n",
    "import io"
   ]
  },
  {
   "cell_type": "code",
   "execution_count": 122,
   "metadata": {},
   "outputs": [],
   "source": [
    "data_url = 'http://archive.ics.uci.edu/ml/machine-learning-databases/iris/iris.data'\n",
    "raw_dataset = requests.get(data_url)\n",
    "assert raw_dataset.status_code == 200"
   ]
  },
  {
   "cell_type": "code",
   "execution_count": 123,
   "metadata": {},
   "outputs": [],
   "source": [
    "frame = pd.read_csv(io.StringIO(raw_dataset.text),header = None, quotechar=',', skipinitialspace=True)"
   ]
  },
  {
   "cell_type": "code",
   "execution_count": 124,
   "metadata": {},
   "outputs": [],
   "source": [
    "dat_mat = np.zeros((150,4))\n",
    "for i in range(4):\n",
    "    dat_mat[:,i] = frame[i] \n",
    "dat_mat = dat_mat.T"
   ]
  },
  {
   "cell_type": "code",
   "execution_count": 125,
   "metadata": {},
   "outputs": [],
   "source": [
    "dat_mat_train = np.zeros((4,75))\n",
    "dat_mat_test = np.zeros((4,75))\n",
    "for i in range(75):\n",
    "    dat_mat_train[:,i] = dat_mat[:,i * 2]\n",
    "    dat_mat_test[:,i] = dat_mat[:,1 + i * 2]\n"
   ]
  },
  {
   "cell_type": "code",
   "execution_count": 126,
   "metadata": {},
   "outputs": [],
   "source": [
    "solution = np.zeros((3, 75))\n",
    "solution[0,:25] = 1\n",
    "solution[1,25:50] = 1\n",
    "solution[2,50:75] = 1\n",
    "#TODO: Сделать чуть более общим"
   ]
  },
  {
   "cell_type": "code",
   "execution_count": 127,
   "metadata": {},
   "outputs": [],
   "source": [
    "NUM_INPUT = 4\n",
    "NUM_HIDDEN = 4\n",
    "NUM_OUTPUT = 3\n",
    "#количество нейронов скрытого слоя"
   ]
  },
  {
   "cell_type": "code",
   "execution_count": 128,
   "metadata": {},
   "outputs": [],
   "source": [
    "def logreg(x):\n",
    "    return 1./(1.+np.exp(-x))"
   ]
  },
  {
   "cell_type": "code",
   "execution_count": 129,
   "metadata": {},
   "outputs": [],
   "source": [
    "def network(wghs, dat):\n",
    "    dat = dat.reshape((4, 75))\n",
    "    wgs_mat_size_1 = NUM_INPUT * NUM_HIDDEN\n",
    "    wgs_mat_size_2 = NUM_HIDDEN * NUM_OUTPUT\n",
    "    wgs_1 = wghs[:wgs_mat_size_1].reshape((NUM_HIDDEN_NEURONS, 4))\n",
    "    wgs_2 = wghs[wgs_mat_size_1:wgs_mat_size_1 + wgs_mat_size_2].reshape((3, NUM_HIDDEN))\n",
    "    z = logreg(np.dot(wgs_1, dat))\n",
    "    z = logreg(np.dot(wgs_2, z))\n",
    "    return z"
   ]
  },
  {
   "cell_type": "code",
   "execution_count": 130,
   "metadata": {},
   "outputs": [],
   "source": [
    "def loss(wgs, data):\n",
    "    z = network(wgs, data)\n",
    "    _sum = 0\n",
    "    for i in range(75):\n",
    "        sq = np.linalg.norm(z[:,i] - solution[:,i])\n",
    "        _sum += sq ** 2\n",
    "    return _sum*(1./150.)    "
   ]
  },
  {
   "cell_type": "code",
   "execution_count": 133,
   "metadata": {},
   "outputs": [],
   "source": [
    "wgs_size = (NUM_INPUT + NUM_OUTPUT) * NUM_HIDDEN_NEURONS\n",
    "wgs_0 = np.random.sample(wgs_size)\n",
    "while True:\n",
    "    if optimize.minimize(loss, wgs_0, dat_mat_train).fun < 0.3:\n",
    "        wgs_1 = optimize.minimize(loss, wgs_0, dat_mat_train).x\n",
    "        break"
   ]
  },
  {
   "cell_type": "code",
   "execution_count": 135,
   "metadata": {},
   "outputs": [
    {
     "name": "stdout",
     "output_type": "stream",
     "text": [
      "1\n",
      "1\n",
      "1\n",
      "1\n",
      "1\n",
      "1\n",
      "1\n",
      "1\n",
      "1\n",
      "1\n",
      "1\n",
      "1\n",
      "1\n",
      "1\n",
      "1\n",
      "1\n",
      "1\n",
      "1\n",
      "1\n",
      "1\n",
      "1\n",
      "1\n",
      "1\n",
      "1\n",
      "1\n",
      "2\n",
      "2\n",
      "2\n",
      "2\n",
      "2\n",
      "2\n",
      "2\n",
      "2\n",
      "2\n",
      "2\n",
      "2\n",
      "2\n",
      "2\n",
      "2\n",
      "2\n",
      "2\n",
      "3\n",
      "2\n",
      "2\n",
      "2\n",
      "2\n",
      "2\n",
      "2\n",
      "2\n",
      "2\n",
      "3\n",
      "3\n",
      "3\n",
      "3\n",
      "3\n",
      "3\n",
      "3\n",
      "3\n",
      "3\n",
      "3\n",
      "3\n",
      "3\n",
      "3\n",
      "3\n",
      "3\n",
      "3\n",
      "3\n",
      "3\n",
      "3\n",
      "3\n",
      "3\n",
      "3\n",
      "3\n",
      "3\n",
      "3\n"
     ]
    }
   ],
   "source": [
    "a = test_network(wgs_1, dat_mat_test)\n",
    "a = a.T\n",
    "for i in range(75):\n",
    "    for j in range(3):\n",
    "        a[i,j] = (a[i,j]/np.sum(a[i,:])) \n",
    "for i in range(75):\n",
    "    b = a[i,:]\n",
    "    # print(np.argmax(b) + 1) "
   ]
  },
  {
   "cell_type": "markdown",
   "metadata": {},
   "source": [
    "##### Todo: Добавить графиков и по возможности сравнить с \"KNN\""
   ]
  }
 ],
 "metadata": {
  "kernelspec": {
   "display_name": "Python 2",
   "language": "python",
   "name": "python2"
  },
  "language_info": {
   "codemirror_mode": {
    "name": "ipython",
    "version": 2
   },
   "file_extension": ".py",
   "mimetype": "text/x-python",
   "name": "python",
   "nbconvert_exporter": "python",
   "pygments_lexer": "ipython2",
   "version": "2.7.15"
  }
 },
 "nbformat": 4,
 "nbformat_minor": 2
}
