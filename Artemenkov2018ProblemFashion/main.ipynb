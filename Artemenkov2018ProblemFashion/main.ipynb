{
 "cells": [
  {
   "cell_type": "code",
   "execution_count": 80,
   "metadata": {
    "colab": {},
    "colab_type": "code",
    "id": "-ZAknlBpEnJl"
   },
   "outputs": [],
   "source": [
    "import pickle\n",
    "import keras\n",
    "import numpy as np\n",
    "import matplotlib.pyplot as plt\n",
    "from skimage import transform\n",
    "from sklearn.metrics import accuracy_score\n",
    "from keras import backend as K\n",
    "\n",
    "plt.rcParams['image.cmap'] = 'viridis'\n",
    "plt.rcParams['axes.grid'] = False\n",
    "plt.rcParams['figure.figsize'] = (7, 4)\n",
    "plt.rcParams['font.family'] = 'serif'\n",
    "plt.rcParams['font.serif'] = 'FreeSerif'\n",
    "plt.rcParams['lines.linewidth'] = 1.4\n",
    "plt.rcParams['lines.markersize'] = 8\n",
    "plt.rcParams['xtick.labelsize'] = 16\n",
    "plt.rcParams['ytick.labelsize'] = 16\n",
    "plt.rcParams['legend.fontsize'] = 16\n",
    "plt.rcParams['axes.titlesize'] = 22\n",
    "plt.rcParams['axes.labelsize'] = 16"
   ]
  },
  {
   "cell_type": "markdown",
   "metadata": {
    "colab_type": "text",
    "id": "o5fF6xM3EnJ1"
   },
   "source": [
    "### Данные:\n",
    "Будем работать с датасетом [FashionMNIST](https://github.com/zalandoresearch/fashion-mnist). "
   ]
  },
  {
   "cell_type": "code",
   "execution_count": 2,
   "metadata": {
    "colab": {},
    "colab_type": "code",
    "id": "tgFHpSctEnJ2"
   },
   "outputs": [],
   "source": [
    "from keras.datasets import fashion_mnist\n",
    "\n",
    "(X_train, y_train), (X_test, y_test) = fashion_mnist.load_data()\n",
    "del y_train, y_test"
   ]
  },
  {
   "cell_type": "code",
   "execution_count": 3,
   "metadata": {
    "colab": {
     "base_uri": "https://localhost:8080/",
     "height": 364
    },
    "colab_type": "code",
    "id": "IZHAXqcqEnJ9",
    "outputId": "dbd1d9e5-6e16-47ec-e874-5fa18470be7e"
   },
   "outputs": [
    {
     "data": {
      "text/plain": [
       "<matplotlib.image.AxesImage at 0x7f6df1d5e320>"
      ]
     },
     "execution_count": 3,
     "metadata": {},
     "output_type": "execute_result"
    },
    {
     "data": {
      "image/png": "[encoded data removed]",
      "text/plain": [
       "<Figure size 432x288 with 1 Axes>"
      ]
     },
     "metadata": {
      "needs_background": "light"
     },
     "output_type": "display_data"
    }
   ],
   "source": [
    "plt.imshow(X_train[9].reshape([28,28]))"
   ]
  },
  {
   "cell_type": "code",
   "execution_count": 4,
   "metadata": {
    "colab": {
     "base_uri": "https://localhost:8080/",
     "height": 364
    },
    "colab_type": "code",
    "id": "-SVsG_a3EnKE",
    "outputId": "7e5aea0d-76c6-49b6-ba63-c99cdd72f2d2"
   },
   "outputs": [
    {
     "data": {
      "text/plain": [
       "<matplotlib.image.AxesImage at 0x7f6df1cf27b8>"
      ]
     },
     "execution_count": 4,
     "metadata": {},
     "output_type": "execute_result"
    },
    {
     "data": {
      "image/png": "[encoded data removed]",
      "text/plain": [
       "<Figure size 432x288 with 1 Axes>"
      ]
     },
     "metadata": {
      "needs_background": "light"
     },
     "output_type": "display_data"
    }
   ],
   "source": [
    "plt.imshow(transform.rotate(X_train[9].reshape([28,28]), 45))"
   ]
  },
  {
   "cell_type": "markdown",
   "metadata": {
    "colab_type": "text",
    "id": "-e6ltH9sEnKM"
   },
   "source": [
    "### Задание.\n",
    "Ваша задача - определить, при каком минимальном угле поворота нейронная сеть фиксированной архитектуры перестает различать обычное и повертнутое изображение. Говоря формально, решаем задачу классификации, исходные изображения принадлежат классу `0`, повернутые - классу `1`. Оцените точность классификации по метрике `accuracy` и ее дисперсию в зависимости от угла поворота изображения и отобразите данную зависимость на графике.\n",
    "\n",
    "Функция `rotate_dataset` поворачивает поданный датасет на заданный угол. Функция `reset_weights` сбрасывает параметры модели.\n",
    "\n",
    "*Обращаем ваше внимание, что для качественной оценки данных зависимостей эксперименты для каждого размера выборки стоит повторять многократно на различных случайных подвыборках.*"
   ]
  },
  {
   "cell_type": "code",
   "execution_count": 8,
   "metadata": {
    "colab": {},
    "colab_type": "code",
    "id": "4weci2IzEnKZ"
   },
   "outputs": [],
   "source": [
    "def rotate_dataset(dataset, angle):\n",
    "    return np.array(list(map(lambda x: transform.rotate(x, angle), dataset)))"
   ]
  },
  {
   "cell_type": "code",
   "execution_count": 9,
   "metadata": {
    "colab": {},
    "colab_type": "code",
    "id": "jmoKhldzEnKf"
   },
   "outputs": [],
   "source": [
    "def get_X_and_y(base_dataset, angle):\n",
    "    rotated_datased = rotate_dataset(base_dataset, angle)\n",
    "    whole_dataset = np.vstack((base_dataset, rotated_datased)).reshape(-1, 784)\n",
    "    shuffled_indices = np.arange(len(whole_dataset))\n",
    "    \n",
    "    _labels = np.zeros(2*base_dataset.shape[0], dtype=bool)\n",
    "    _labels[base_dataset.shape[0]:] = True\n",
    "    _labels = _labels[:, None]\n",
    "    \n",
    "    whole_labels = np.array(np.hstack((_labels, ~_labels)), dtype=int)\n",
    "    \n",
    "    np.random.shuffle(shuffled_indices)    \n",
    "    whole_dataset = whole_dataset[shuffled_indices]\n",
    "    whole_labels = whole_labels[shuffled_indices]\n",
    "    \n",
    "    return whole_dataset, whole_labels\n"
   ]
  },
  {
   "cell_type": "code",
   "execution_count": 10,
   "metadata": {
    "colab": {},
    "colab_type": "code",
    "id": "LxdH52uBEnKq"
   },
   "outputs": [],
   "source": [
    "def reset_weights(model):\n",
    "    session = K.get_session()\n",
    "    for layer in model.layers: \n",
    "        if hasattr(layer, 'kernel_initializer'):\n",
    "            layer.kernel.initializer.run(session=session)\n",
    "    return"
   ]
  },
  {
   "cell_type": "code",
   "execution_count": 72,
   "metadata": {
    "colab": {},
    "colab_type": "code",
    "id": "y1aLFAY1EnLT"
   },
   "outputs": [
    {
     "name": "stdout",
     "output_type": "stream",
     "text": [
      "N=10000, angle=360, run=5/5                  "
     ]
    }
   ],
   "source": [
    "batch_size = 128\n",
    "n_epochs = 40\n",
    "nruns = 5\n",
    "angle_step = 30\n",
    "Ns = [500, 2000, 10000]\n",
    "\n",
    "nscores = [] \n",
    "for N in Ns:\n",
    "    scores = []\n",
    "    for angle in range(0, 361, angle_step):\n",
    "        tmp_score = []\n",
    "        X_test_whole, y_test_whole = get_X_and_y(X_test, angle)\n",
    "        for nrun in range(nruns):\n",
    "            print(f'\\rN={N}, angle={angle}, run={nrun+1}/{nruns}                  ',\n",
    "                  end='')\n",
    "            base_indices = np.random.choice(np.arange(X_train.shape[0]), \n",
    "                                            size=N, replace=False)\n",
    "            base_dataset = X_train[base_indices]\n",
    "            X, y = get_X_and_y(base_dataset, angle)\n",
    "\n",
    "            # Reset weights do not work as expected\n",
    "            model = keras.models.Sequential()\n",
    "            model.add(keras.layers.InputLayer([784]))\n",
    "            model.add(keras.layers.Dense(64))\n",
    "            model.add(keras.layers.Activation('relu'))\n",
    "            model.add(keras.layers.Dropout(0.5))\n",
    "            model.add(keras.layers.Dense(2))\n",
    "            model.add(keras.layers.Activation('softmax'))\n",
    "            model.compile('adam', 'categorical_crossentropy', metrics=['accuracy'])\n",
    "\n",
    "            model.fit(X, y, batch_size=batch_size, epochs=n_epochs, verbose=0)\n",
    "\n",
    "            y_test_predicted_whole = model.predict_classes(X_test_whole)\n",
    "            tmp_score.append(accuracy_score(y_test_whole[:, 1], y_test_predicted_whole))\n",
    "\n",
    "        scores.append([angle, np.mean(tmp_score), np.std(tmp_score)])\n",
    "    nscores.append([N, scores])\n",
    "    \n",
    "with open('nscores.pickle', 'wb') as f:\n",
    "    pickle.dump(nscores, f)"
   ]
  },
  {
   "cell_type": "code",
   "execution_count": 79,
   "metadata": {},
   "outputs": [
    {
     "data": {
      "image/png": "[encoded data removed]",
      "text/plain": [
       "<Figure size 504x288 with 1 Axes>"
      ]
     },
     "metadata": {
      "needs_background": "light"
     },
     "output_type": "display_data"
    }
   ],
   "source": [
    "with open('nscores.pickle', 'rb') as f:\n",
    "    nscores = pickle.load(f)\n",
    "\n",
    "fig, ax = plt.subplots(1, 1)\n",
    "ax.set_title('Зависимость точности от угла поворота')\n",
    "ax.set_xlabel(r'Угол поворота, $\\theta$')\n",
    "ax.set_ylabel(r'Точность классификации, $\\frac{correct}{total}$')\n",
    "\n",
    "for N, scores in nscores:\n",
    "    scores = np.array(scores)\n",
    "    ax.scatter(scores[:, 0], scores[:, 1], label=f'N = {N}')\n",
    "    ax.errorbar(scores[:, 0], scores[:, 1], yerr=scores[:, 2], \n",
    "                capsize=5, barsabove=True)\n",
    "ax.set_xticks(np.arange(0, 361, 30))\n",
    "ax.set_ylim(0, 1)\n",
    "ax.grid()\n",
    "ax.legend()\n",
    "plt.show()"
   ]
  },
  {
   "cell_type": "markdown",
   "metadata": {},
   "source": [
    "Зависимость от угла поворота незначительная."
   ]
  }
 ],
 "metadata": {
  "colab": {
   "name": "Artemenkov2018Fashion.ipynb",
   "provenance": [],
   "version": "0.3.2"
  },
  "kernelspec": {
   "display_name": "Python 3",
   "language": "python",
   "name": "python3"
  },
  "language_info": {
   "codemirror_mode": {
    "name": "ipython",
    "version": 3
   },
   "file_extension": ".py",
   "mimetype": "text/x-python",
   "name": "python",
   "nbconvert_exporter": "python",
   "pygments_lexer": "ipython3",
   "version": "3.7.0"
  },
  "toc": {
   "nav_menu": {},
   "number_sections": true,
   "sideBar": true,
   "skip_h1_title": false,
   "title_cell": "Table of Contents",
   "title_sidebar": "Contents",
   "toc_cell": false,
   "toc_position": {},
   "toc_section_display": true,
   "toc_window_display": false
  }
 },
 "nbformat": 4,
 "nbformat_minor": 1
}
