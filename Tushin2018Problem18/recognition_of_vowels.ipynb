{
 "cells": [
  {
   "cell_type": "markdown",
   "metadata": {},
   "source": [
    "# Задача 18\n",
    "## Распознавание британских гласных\n",
    "\n",
    "Распознавание британских гласных (11 штук) по данным с динамиков, рекомендуется использовать нормированные признаки (файл .scaled). Решить задачу многоклассовой классификации с помощью решающего дерева. Реализовать метод решающего дерева, построить область разделения на классы в проекции на любые 2 признака."
   ]
  },
  {
   "cell_type": "markdown",
   "metadata": {},
   "source": [
    "# Д/З № 2"
   ]
  },
  {
   "cell_type": "markdown",
   "metadata": {},
   "source": [
    "### Imports"
   ]
  },
  {
   "cell_type": "code",
   "execution_count": 1,
   "metadata": {},
   "outputs": [],
   "source": [
    "import pandas as pd\n",
    "import numpy as np\n",
    "from sklearn.tree import DecisionTreeClassifier\n",
    "from sklearn.metrics import accuracy_score\n",
    "from sklearn.utils import shuffle\n",
    "from sklearn.model_selection import StratifiedKFold, cross_val_score, GridSearchCV, train_test_split\n",
    "\n",
    "import matplotlib.pyplot as plt\n",
    "import seaborn as sns\n",
    "%matplotlib inline"
   ]
  },
  {
   "cell_type": "markdown",
   "metadata": {},
   "source": [
    "### Read data\n",
    "Данные https://www.csie.ntu.edu.tw/~cjlin/libsvmtools/datasets/multiclass.html"
   ]
  },
  {
   "cell_type": "code",
   "execution_count": 2,
   "metadata": {},
   "outputs": [],
   "source": [
    "data = pd.read_csv('../../data/vowel.scale', sep = ' ', header=None)\n",
    "\n",
    "# clean data\n",
    "for i in range(1,11):\n",
    "    data[i] = data[i].apply(lambda x: x.split(':')[1]).astype('float64')\n",
    "    \n",
    "data.rename({0:'y'}, axis=1, inplace=True)\n",
    "\n",
    "data.drop(11, axis=1, inplace=True)"
   ]
  },
  {
   "cell_type": "code",
   "execution_count": 3,
   "metadata": {},
   "outputs": [
    {
     "data": {
      "text/html": [
       "<div>\n",
       "<style scoped>\n",
       "    .dataframe tbody tr th:only-of-type {\n",
       "        vertical-align: middle;\n",
       "    }\n",
       "\n",
       "    .dataframe tbody tr th {\n",
       "        vertical-align: top;\n",
       "    }\n",
       "\n",
       "    .dataframe thead th {\n",
       "        text-align: right;\n",
       "    }\n",
       "</style>\n",
       "<table border=\"1\" class=\"dataframe\">\n",
       "  <thead>\n",
       "    <tr style=\"text-align: right;\">\n",
       "      <th></th>\n",
       "      <th>y</th>\n",
       "      <th>1</th>\n",
       "      <th>2</th>\n",
       "      <th>3</th>\n",
       "      <th>4</th>\n",
       "      <th>5</th>\n",
       "      <th>6</th>\n",
       "      <th>7</th>\n",
       "      <th>8</th>\n",
       "      <th>9</th>\n",
       "      <th>10</th>\n",
       "    </tr>\n",
       "  </thead>\n",
       "  <tbody>\n",
       "    <tr>\n",
       "      <th>44</th>\n",
       "      <td>0</td>\n",
       "      <td>-0.242155</td>\n",
       "      <td>-0.507246</td>\n",
       "      <td>-0.125641</td>\n",
       "      <td>0.731111</td>\n",
       "      <td>-0.013643</td>\n",
       "      <td>0.579513</td>\n",
       "      <td>-0.047619</td>\n",
       "      <td>0.204316</td>\n",
       "      <td>-0.232717</td>\n",
       "      <td>-0.509753</td>\n",
       "    </tr>\n",
       "  </tbody>\n",
       "</table>\n",
       "</div>"
      ],
      "text/plain": [
       "    y         1         2         3         4         5         6         7  \\\n",
       "44  0 -0.242155 -0.507246 -0.125641  0.731111 -0.013643  0.579513 -0.047619   \n",
       "\n",
       "           8         9        10  \n",
       "44  0.204316 -0.232717 -0.509753  "
      ]
     },
     "execution_count": 3,
     "metadata": {},
     "output_type": "execute_result"
    }
   ],
   "source": [
    "data.sample()"
   ]
  },
  {
   "cell_type": "code",
   "execution_count": 4,
   "metadata": {},
   "outputs": [],
   "source": [
    "data, test = train_test_split(data, shuffle=True, stratify=data['y'], test_size=0.2,  random_state=11)"
   ]
  },
  {
   "cell_type": "code",
   "execution_count": 5,
   "metadata": {},
   "outputs": [
    {
     "data": {
      "text/plain": [
       "(0.8285831285831285, 0.04203126246750487)"
      ]
     },
     "execution_count": 5,
     "metadata": {},
     "output_type": "execute_result"
    }
   ],
   "source": [
    "tr_col = list(range(1,11))\n",
    "X = data[tr_col].values\n",
    "y = data['y'].values\n",
    "\n",
    "cv = StratifiedKFold(n_splits=10, shuffle=True, random_state=42)\n",
    "model = DecisionTreeClassifier(random_state=4)\n",
    "score = cross_val_score(model, X, y, cv=cv, scoring='accuracy')\n",
    "\n",
    "score.mean(), score.std()"
   ]
  },
  {
   "cell_type": "code",
   "execution_count": null,
   "metadata": {},
   "outputs": [],
   "source": [
    "parameters={\n",
    "    'min_samples_split' : range(2,20,2),\n",
    "    'max_depth': range(1,20,2),\n",
    "    'max_features': range(1,11)    \n",
    "}\n",
    "cv = StratifiedKFold(n_splits=10, shuffle=True, random_state=42)\n",
    "model = DecisionTreeClassifier(random_state=4)\n",
    "\n",
    "clf = GridSearchCV(model, parameters, scoring='accuracy', n_jobs=-1, cv=cv)\n",
    "clf.fit(X,y)"
   ]
  },
  {
   "cell_type": "code",
   "execution_count": null,
   "metadata": {},
   "outputs": [],
   "source": [
    "best_model = clf.best_estimator_\n",
    "\n",
    "score = cross_val_score(best_model, X, y, cv=cv, scoring='accuracy')\n",
    "\n",
    "score.mean(), score.std()"
   ]
  },
  {
   "cell_type": "markdown",
   "metadata": {},
   "source": [
    "### Проверяем на отложенной выборке"
   ]
  },
  {
   "cell_type": "code",
   "execution_count": null,
   "metadata": {},
   "outputs": [],
   "source": [
    "pred = best_model.predict(test[tr_col])\n",
    "accuracy_score(test['y'], pred)"
   ]
  },
  {
   "cell_type": "code",
   "execution_count": null,
   "metadata": {},
   "outputs": [],
   "source": [
    "def plot_forest(X, y, model):\n",
    "    colors = ['black', 'grey', 'brown', 'orange', 'olive', 'green',\n",
    "         'cyan', 'blue', 'purple', 'red', 'white']\n",
    "    \n",
    "    plt.figure(figsize=(20,10))\n",
    "    ax = plt.gca()\n",
    "    h = 0.02\n",
    "\n",
    "    x_min, x_max = X[:, 0].min() - .5, X[:, 0].max() + .5\n",
    "    y_min, y_max = X[:, 1].min() - .5, X[:, 1].max() + .5\n",
    "    xx, yy = np.meshgrid(np.arange(x_min, x_max, h), np.arange(y_min, y_max, h))\n",
    "\n",
    "    model.fit(X, y)\n",
    "    \n",
    "    Z = model.predict_proba(np.c_[xx.ravel(), yy.ravel()])[:, 1]\n",
    "    Z = Z.reshape(xx.shape)\n",
    "    ax.contourf(xx, yy, Z, alpha=.4)\n",
    "    ax.set_title(\"Разделяющая поверхность\" , size=24)\n",
    "\n",
    "    ax.scatter(X[:, 0], X[:, 1], c=np.array(colors)[y], s=60)\n",
    "    ax.set_xlim(x_min, x_max)\n",
    "    ax.set_ylim(y_min, y_max)\n",
    "    ax.set_xticks(())\n",
    "    ax.set_yticks(())"
   ]
  },
  {
   "cell_type": "code",
   "execution_count": null,
   "metadata": {},
   "outputs": [],
   "source": [
    "plot_forest(X[:,:2], y, model)"
   ]
  },
  {
   "cell_type": "markdown",
   "metadata": {},
   "source": [
    "# Д/З № 3"
   ]
  },
  {
   "cell_type": "markdown",
   "metadata": {},
   "source": [
    "### Построить график зависимости ошибки и стандартного отклонения от объема выборки."
   ]
  },
  {
   "cell_type": "code",
   "execution_count": null,
   "metadata": {},
   "outputs": [],
   "source": [
    "def mean_std(n):\n",
    "    score = cross_val_score(best_model, X[:n], y[:n], scoring='accuracy', cv=2)\n",
    "    return {'mean':score.mean(), 'std':score.std()}"
   ]
  },
  {
   "cell_type": "code",
   "execution_count": null,
   "metadata": {},
   "outputs": [],
   "source": [
    "mean = []\n",
    "std = []\n",
    "for n in range(40, len(X), 1):\n",
    "    res = mean_std(n)\n",
    "    mean.append(res['mean'])\n",
    "    std.append(res['std'])"
   ]
  },
  {
   "cell_type": "code",
   "execution_count": null,
   "metadata": {},
   "outputs": [],
   "source": [
    "plt.figure(figsize=(16,12))\n",
    "plt.grid(True)\n",
    "\n",
    "plt.errorbar(range(40, len(X), 1),mean, yerr=std) \n",
    "plt.xlabel('Count object', size=24)\n",
    "plt.ylabel('Accuracy', size=24)\n",
    "\n",
    "plt.savefig(fname='std.png',format='png')\n",
    "plt.show()"
   ]
  }
 ],
 "metadata": {
  "kernelspec": {
   "display_name": "Python 3",
   "language": "python",
   "name": "python3"
  },
  "language_info": {
   "codemirror_mode": {
    "name": "ipython",
    "version": 3
   },
   "file_extension": ".py",
   "mimetype": "text/x-python",
   "name": "python",
   "nbconvert_exporter": "python",
   "pygments_lexer": "ipython3",
   "version": "3.6.6"
  }
 },
 "nbformat": 4,
 "nbformat_minor": 2
}
